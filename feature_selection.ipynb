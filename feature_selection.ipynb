{
 "cells": [
  {
   "cell_type": "markdown",
   "id": "c38ea631-4e2a-4a94-817b-66a6346525d5",
   "metadata": {},
   "source": [
    "Find what my liked songs have in common"
   ]
  },
  {
   "cell_type": "code",
   "execution_count": 36,
   "id": "2f48d92b-9f05-4cd1-b899-25b033a1068f",
   "metadata": {},
   "outputs": [],
   "source": [
    "import pandas as pd\n",
    "from sklearn.ensemble import RandomForestClassifier\n",
    "from sklearn.model_selection import train_test_split\n",
    "from sklearn.preprocessing import StandardScaler\n",
    "\n",
    "# Assuming you have a DataFrame df containing your songs and API metadata\n",
    "df = pd.read_csv('spotify-datasets/kaggle-nelgiriyewithana-dataset/spotify-2023_Like_column_JL.csv', encoding='latin-1')"
   ]
  },
  {
   "cell_type": "code",
   "execution_count": 45,
   "id": "0cd9582c-fe65-4169-b64e-8a4199bf8ef1",
   "metadata": {},
   "outputs": [
    {
     "data": {
      "text/plain": [
       "Index(['track_name', 'artist(s)_name', 'artist_count', 'released_year',\n",
       "       'released_month', 'released_day', 'in_spotify_playlists',\n",
       "       'in_spotify_charts', 'streams', 'in_apple_playlists', 'in_apple_charts',\n",
       "       'in_deezer_playlists', 'in_deezer_charts', 'in_shazam_charts', 'bpm',\n",
       "       'key', 'mode', 'danceability_%', 'valence_%', 'energy_%',\n",
       "       'acousticness_%', 'instrumentalness_%', 'liveness_%', 'speechiness_%',\n",
       "       'Reggaeton'],\n",
       "      dtype='object')"
      ]
     },
     "execution_count": 45,
     "metadata": {},
     "output_type": "execute_result"
    }
   ],
   "source": [
    "df.columns"
   ]
  },
  {
   "cell_type": "code",
   "execution_count": 50,
   "id": "12eefd5e-851f-4a4d-bbff-4f2b94a4b4d3",
   "metadata": {},
   "outputs": [],
   "source": [
    "\n",
    "# Define the features and target variable\n",
    "features = ['bpm', 'danceability_%', 'valence_%', 'energy_%', 'acousticness_%', 'instrumentalness_%', 'liveness_%', 'speechiness_%'] # feature columns\n",
    "target = 'Reggaeton'  # target variable"
   ]
  },
  {
   "cell_type": "code",
   "execution_count": 51,
   "id": "1aa24ae1-ce9a-448b-9f0b-dc5f1e83dc2c",
   "metadata": {},
   "outputs": [
    {
     "data": {
      "text/plain": [
       "['bpm',\n",
       " 'danceability_%',\n",
       " 'valence_%',\n",
       " 'energy_%',\n",
       " 'acousticness_%',\n",
       " 'instrumentalness_%',\n",
       " 'liveness_%',\n",
       " 'speechiness_%']"
      ]
     },
     "execution_count": 51,
     "metadata": {},
     "output_type": "execute_result"
    }
   ],
   "source": [
    "features"
   ]
  },
  {
   "cell_type": "code",
   "execution_count": 96,
   "id": "2061a913-e7c8-4d47-a32c-c3ef954f436d",
   "metadata": {},
   "outputs": [],
   "source": [
    "# Separate features and target variable\n",
    "X = df[features]\n",
    "y = df[target]"
   ]
  },
  {
   "cell_type": "code",
   "execution_count": 97,
   "id": "bea55b5d-f81b-44de-939d-2f744ae4c379",
   "metadata": {},
   "outputs": [],
   "source": [
    "# Normalize features\n",
    "scaler = StandardScaler()\n",
    "X_scaled = scaler.fit_transform(X)"
   ]
  },
  {
   "cell_type": "code",
   "execution_count": 121,
   "id": "0fd8e41c-6a77-480b-a0be-591699f3a137",
   "metadata": {},
   "outputs": [],
   "source": [
    "# Split the data into training and testing sets\n",
    "X_train, X_test, y_train, y_test = train_test_split(X_scaled, y, test_size=0.2, random_state=42) # scaled X\n",
    "\n",
    "#X_train, X_test, y_train, y_test = train_test_split(X, y, test_size=0.2, random_state=42) # unscaled X\n"
   ]
  },
  {
   "cell_type": "code",
   "execution_count": 122,
   "id": "c1f65888-6f6d-48cc-b3c7-7eb8554f3694",
   "metadata": {},
   "outputs": [
    {
     "data": {
      "text/plain": [
       "array([[-0.83943709,  0.82270986,  0.53556182, ..., -0.188132  ,\n",
       "        -0.52634245,  0.3904883 ],\n",
       "       [-1.12471249,  0.68593839,  0.3651192 , ..., -0.188132  ,\n",
       "        -0.74525619, -0.51789743],\n",
       "       [-0.51850226,  1.16463856,  0.15206593, ..., -0.188132  ,\n",
       "         0.13039878,  5.43707569],\n",
       "       ...,\n",
       "       [ 0.40864279, -1.50240527, -1.46713891, ..., -0.188132  ,\n",
       "         1.07902499, -0.61882917],\n",
       "       [-0.26888628,  1.91688169, -0.35926191, ..., -0.188132  ,\n",
       "        -0.67228495,  2.10632802],\n",
       "       [ 0.33732394,  1.71172447,  0.06684462, ..., -0.188132  ,\n",
       "         3.26816242, -0.01323869]])"
      ]
     },
     "execution_count": 122,
     "metadata": {},
     "output_type": "execute_result"
    }
   ],
   "source": [
    "X_train"
   ]
  },
  {
   "cell_type": "code",
   "execution_count": 123,
   "id": "97589123-67ee-427e-a750-8b0121a52023",
   "metadata": {},
   "outputs": [
    {
     "name": "stdout",
     "output_type": "stream",
     "text": [
      "Random Forest Feature Importance:\n",
      "              Feature  Importance\n",
      "0                 bpm    0.228172\n",
      "1      danceability_%    0.175050\n",
      "3            energy_%    0.131409\n",
      "2           valence_%    0.122113\n",
      "4      acousticness_%    0.119642\n",
      "7       speechiness_%    0.117827\n",
      "6          liveness_%    0.093578\n",
      "5  instrumentalness_%    0.012209\n",
      "Model Accuracy: 0.8901\n",
      "Model Recall: 0.1429\n",
      "Model Precision: 0.5000\n",
      "\n",
      "Gradient Boosting Feature Importance:\n",
      "              Feature  Importance\n",
      "0                 bpm    0.391494\n",
      "1      danceability_%    0.235086\n",
      "3            energy_%    0.102232\n",
      "2           valence_%    0.082278\n",
      "4      acousticness_%    0.079896\n",
      "7       speechiness_%    0.060449\n",
      "6          liveness_%    0.046181\n",
      "5  instrumentalness_%    0.002383\n",
      "Model Accuracy: 0.8953\n",
      "Model Recall: 0.2381\n",
      "Model Precision: 0.5556\n"
     ]
    }
   ],
   "source": [
    "from sklearn.ensemble import RandomForestClassifier, GradientBoostingClassifier\n",
    "from sklearn.metrics import accuracy_score, recall_score, precision_score\n",
    "\n",
    "\n",
    "def get_feature_importance(model, features):\n",
    "    model.fit(X_train, y_train)\n",
    "    feature_importances = model.feature_importances_\n",
    "    importance_df = pd.DataFrame({'Feature': features, 'Importance': feature_importances})\n",
    "    importance_df = importance_df.sort_values(by='Importance', ascending=False)\n",
    "    \n",
    "    # Calculate model metrics\n",
    "    y_pred = model.predict(X_test)\n",
    "    accuracy = accuracy_score(y_test, y_pred)\n",
    "    recall = recall_score(y_test, y_pred)\n",
    "    precision = precision_score(y_test, y_pred)\n",
    "    \n",
    "    return importance_df, accuracy, recall, precision\n",
    "\n",
    "# Try RandomForestClassifier with default parameters\n",
    "rf_classifier = RandomForestClassifier(random_state=42)\n",
    "rf_importance_df, rf_accuracy, rf_recall, rf_precision = get_feature_importance(rf_classifier, features)\n",
    "print(\"Random Forest Feature Importance:\")\n",
    "print(rf_importance_df)\n",
    "print(f\"Model Accuracy: {rf_accuracy:.4f}\")\n",
    "print(f\"Model Recall: {rf_recall:.4f}\")\n",
    "print(f\"Model Precision: {rf_precision:.4f}\")\n",
    "\n",
    "# Try GradientBoostingClassifier with different hyperparameters\n",
    "gb_classifier = GradientBoostingClassifier(n_estimators=100, learning_rate=0.1, max_depth=3, random_state=42)\n",
    "gb_importance_df, gb_accuracy, gb_recall, gb_precision = get_feature_importance(gb_classifier, features)\n",
    "print(\"\\nGradient Boosting Feature Importance:\")\n",
    "print(gb_importance_df)\n",
    "print(f\"Model Accuracy: {gb_accuracy:.4f}\")\n",
    "print(f\"Model Recall: {gb_recall:.4f}\")\n",
    "print(f\"Model Precision: {gb_precision:.4f}\")"
   ]
  },
  {
   "cell_type": "code",
   "execution_count": 125,
   "id": "9199603a-81a2-468a-9b8d-4b387e26d87f",
   "metadata": {},
   "outputs": [
    {
     "name": "stdout",
     "output_type": "stream",
     "text": [
      "6/6 [==============================] - 0s 545us/step\n",
      "\n",
      "Neural Network Feature Importance:\n",
      "              Feature  Importance\n",
      "1      danceability_%    0.173602\n",
      "2           valence_%    0.170540\n",
      "3            energy_%    0.162433\n",
      "4      acousticness_%    0.162214\n",
      "5  instrumentalness_%    0.159262\n",
      "0                 bpm    0.155945\n",
      "7       speechiness_%    0.136558\n",
      "6          liveness_%    0.131220\n",
      "Model Accuracy: 0.8901\n",
      "Model Recall: 0.0000\n",
      "Model Precision: 0.0000\n"
     ]
    },
    {
     "name": "stderr",
     "output_type": "stream",
     "text": [
      "/Users/joseliquet/anaconda3/lib/python3.11/site-packages/sklearn/metrics/_classification.py:1344: UndefinedMetricWarning: Precision is ill-defined and being set to 0.0 due to no predicted samples. Use `zero_division` parameter to control this behavior.\n",
      "  _warn_prf(average, modifier, msg_start, len(result))\n"
     ]
    }
   ],
   "source": [
    "import numpy as np\n",
    "from keras.models import Sequential\n",
    "from keras.layers import Dense\n",
    "\n",
    "# Build a simple neural network model\n",
    "model = Sequential()\n",
    "model.add(Dense(units=64, activation='relu', input_dim=X_train.shape[1]))\n",
    "model.add(Dense(units=1, activation='sigmoid'))\n",
    "\n",
    "# Compile the model\n",
    "model.compile(optimizer='adam', loss='binary_crossentropy', metrics=['accuracy'])\n",
    "\n",
    "# Train the model\n",
    "model.fit(X_train, y_train, epochs=10, batch_size=32, verbose=0)\n",
    "\n",
    "# Get the weights of the first layer\n",
    "weights_first_layer = model.layers[0].get_weights()[0]\n",
    "\n",
    "# Calculate feature importances based on weights\n",
    "feature_importances = np.mean(np.abs(weights_first_layer), axis=1)\n",
    "\n",
    "# Create a DataFrame to display feature importances\n",
    "importance_df = pd.DataFrame({'Feature': features, 'Importance': feature_importances})\n",
    "\n",
    "# Sort features by importance in descending order\n",
    "importance_df = importance_df.sort_values(by='Importance', ascending=False)\n",
    "\n",
    "# Calculate model metrics\n",
    "y_pred_prob = model.predict(X_test)\n",
    "y_pred = (y_pred_prob > 0.5).astype(int)  # Threshold predictions to binary values\n",
    "\n",
    "nn_accuracy = accuracy_score(y_test, y_pred)\n",
    "nn_recall = recall_score(y_test, y_pred)\n",
    "nn_precision = precision_score(y_test, y_pred)\n",
    "\n",
    "# Display the sorted DataFrame and model metrics\n",
    "print(\"\\nNeural Network Feature Importance:\")\n",
    "print(importance_df)\n",
    "print(f\"Model Accuracy: {nn_accuracy:.4f}\")\n",
    "print(f\"Model Recall: {nn_recall:.4f}\")\n",
    "print(f\"Model Precision: {nn_precision:.4f}\")"
   ]
  },
  {
   "cell_type": "markdown",
   "id": "a79ebeca-5489-4235-9c59-1291dc5c0e6b",
   "metadata": {},
   "source": [
    "- Need to look into how to improve Model accuracy, recall and precision\n",
    "- Overall, the importan features are BPM, Dancability, and energy"
   ]
  }
 ],
 "metadata": {
  "kernelspec": {
   "display_name": "Python 3 (ipykernel)",
   "language": "python",
   "name": "python3"
  },
  "language_info": {
   "codemirror_mode": {
    "name": "ipython",
    "version": 3
   },
   "file_extension": ".py",
   "mimetype": "text/x-python",
   "name": "python",
   "nbconvert_exporter": "python",
   "pygments_lexer": "ipython3",
   "version": "3.11.7"
  }
 },
 "nbformat": 4,
 "nbformat_minor": 5
}
