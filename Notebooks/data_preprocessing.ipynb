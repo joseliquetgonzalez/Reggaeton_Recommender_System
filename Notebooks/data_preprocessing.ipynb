{
 "cells": [
  {
   "cell_type": "markdown",
   "id": "61607b74-d72f-400c-89c1-0eaa837754aa",
   "metadata": {},
   "source": [
    "# Preprocessing of data"
   ]
  },
  {
   "cell_type": "code",
   "execution_count": 1,
   "id": "f562499b-0082-45f2-a006-0a6388d97cdb",
   "metadata": {},
   "outputs": [],
   "source": [
    "import pandas as pd\n",
    "import matplotlib.pyplot as plt\n",
    "import seaborn as sns"
   ]
  },
  {
   "cell_type": "code",
   "execution_count": 19,
   "id": "cf08838d-8c02-480c-958a-98543b83b612",
   "metadata": {},
   "outputs": [],
   "source": [
    "# load data\n",
    "spotify_df = pd.read_csv('../spotify-datasets/kaggle-yamaerenay-dataset/tracks.csv')\n",
    "artists_df = pd.read_csv('../spotify-datasets/kaggle-yamaerenay-dataset/artists.csv')"
   ]
  },
  {
   "cell_type": "code",
   "execution_count": 20,
   "id": "072a659e-3af4-4df6-9a10-8a85010d88bc",
   "metadata": {},
   "outputs": [
    {
     "name": "stdout",
     "output_type": "stream",
     "text": [
      "(586672, 20) (1162095, 5)\n"
     ]
    }
   ],
   "source": [
    "print(spotify_df.shape,artists_df.shape)"
   ]
  },
  {
   "cell_type": "code",
   "execution_count": 21,
   "id": "3b012cb2-4d1d-49ea-b573-c992d704ed07",
   "metadata": {},
   "outputs": [],
   "source": [
    "#unlist the artist in the spotify df, this will be important when merging\n",
    "spotify_df['id_artists'] = [i[2:-2] for i in spotify_df['id_artists']] "
   ]
  },
  {
   "cell_type": "code",
   "execution_count": 22,
   "id": "0373f472-1040-4b3c-9603-2b9831330e25",
   "metadata": {},
   "outputs": [],
   "source": [
    "# rename so I don't ahve to modify codes\n",
    "df = spotify_df "
   ]
  },
  {
   "cell_type": "code",
   "execution_count": 23,
   "id": "0008a647-3cd7-4e34-979e-b7b99c67efbb",
   "metadata": {},
   "outputs": [],
   "source": [
    "# convert change date column dtype\n",
    "df['release_date'] = pd.to_datetime(df['release_date'], format='mixed', yearfirst=True)"
   ]
  },
  {
   "cell_type": "code",
   "execution_count": 24,
   "id": "3b79255e-1c53-488f-a70d-1165728d01b3",
   "metadata": {},
   "outputs": [],
   "source": [
    "# transform\n",
    "df[\"release_date\"]=df[\"release_date\"].apply(lambda x : x.strftime(\"%Y\"))"
   ]
  },
  {
   "cell_type": "code",
   "execution_count": 25,
   "id": "e6b2d5d8-16b5-4e3a-959f-0515e81147f3",
   "metadata": {},
   "outputs": [],
   "source": [
    "# leave only year from date\n",
    "df['release_date'] = pd.DatetimeIndex(df['release_date']).year"
   ]
  },
  {
   "cell_type": "code",
   "execution_count": 26,
   "id": "f821fda6-f80f-4ca6-b364-9b0cce0af792",
   "metadata": {},
   "outputs": [],
   "source": [
    "# make age column for binning\n",
    "df[\"track_age_FLAG\"]=df['release_date'].max()-df[\"release_date\"] # 2021-year, this is a quick way to filter old tracks"
   ]
  },
  {
   "cell_type": "code",
   "execution_count": 27,
   "id": "c7311cf5-e084-4589-8d57-8234bb3fb722",
   "metadata": {},
   "outputs": [
    {
     "data": {
      "text/plain": [
       "(586672, 21)"
      ]
     },
     "execution_count": 27,
     "metadata": {},
     "output_type": "execute_result"
    }
   ],
   "source": [
    "df.shape\n",
    "# (586672, 21)"
   ]
  },
  {
   "cell_type": "code",
   "execution_count": 28,
   "id": "e1cfcae7-8648-4364-a533-88823b7e7cfa",
   "metadata": {},
   "outputs": [],
   "source": [
    "df=df[df[\"track_age_FLAG\"]<40] # remove all songs previous to 1981\n",
    "# reggaeton was made arund 1990s, kept 1980s just in case"
   ]
  },
  {
   "cell_type": "code",
   "execution_count": 29,
   "id": "d53369b1-7092-43c1-bd25-64896c83703c",
   "metadata": {},
   "outputs": [
    {
     "name": "stderr",
     "output_type": "stream",
     "text": [
      "/var/folders/12/2vlrlc395y57zpw7blgkklfw0000gn/T/ipykernel_77972/3732094619.py:2: SettingWithCopyWarning: \n",
      "A value is trying to be set on a copy of a slice from a DataFrame.\n",
      "Try using .loc[row_indexer,col_indexer] = value instead\n",
      "\n",
      "See the caveats in the documentation: https://pandas.pydata.org/pandas-docs/stable/user_guide/indexing.html#returning-a-view-versus-a-copy\n",
      "  df[\"era_FLAG\"]=pd.cut(df[\"release_date\"],[1981,1989,1999,2009,2021],labels=[\"1980s\",\"1990s\",\"2000s\",\"2010s\"],ordered=False)\n"
     ]
    }
   ],
   "source": [
    "# make era bin\n",
    "df[\"era_FLAG\"]=pd.cut(df[\"release_date\"],[1981,1989,1999,2009,2021],labels=[\"1980s\",\"1990s\",\"2000s\",\"2010s\"],ordered=False)"
   ]
  },
  {
   "cell_type": "code",
   "execution_count": 30,
   "id": "94f07401-c5a7-4fa7-b65c-ddba483aa654",
   "metadata": {},
   "outputs": [
    {
     "data": {
      "text/plain": [
       "(387539, 22)"
      ]
     },
     "execution_count": 30,
     "metadata": {},
     "output_type": "execute_result"
    }
   ],
   "source": [
    "df.shape\n",
    "# (387539, 22)"
   ]
  },
  {
   "cell_type": "code",
   "execution_count": 31,
   "id": "6bb743c6-0a0f-4e67-b8f1-26cd71c56ead",
   "metadata": {},
   "outputs": [
    {
     "data": {
      "text/plain": [
       "era_FLAG\n",
       "2010s    125463\n",
       "1990s    108875\n",
       "2000s     86841\n",
       "1980s     66360\n",
       "Name: count, dtype: int64"
      ]
     },
     "execution_count": 31,
     "metadata": {},
     "output_type": "execute_result"
    }
   ],
   "source": [
    "df[\"era_FLAG\"].value_counts()"
   ]
  },
  {
   "cell_type": "code",
   "execution_count": 32,
   "id": "cf508dcb-b463-4ed0-87da-99f1f838c0da",
   "metadata": {},
   "outputs": [],
   "source": [
    "spotify_df = df #re-name to original name"
   ]
  },
  {
   "cell_type": "code",
   "execution_count": 33,
   "id": "56b5f8bd-9cec-4293-b643-a9f77f9c7614",
   "metadata": {},
   "outputs": [
    {
     "data": {
      "text/plain": [
       "(376024, 22)"
      ]
     },
     "execution_count": 33,
     "metadata": {},
     "output_type": "execute_result"
    }
   ],
   "source": [
    "spotify_df = spotify_df[spotify_df['speechiness']<0.66] # remove spoken word\n",
    "spotify_df.shape\n",
    "#(376024, 22)"
   ]
  },
  {
   "cell_type": "code",
   "execution_count": 34,
   "id": "744ef72d-9a37-4bd1-a3db-8c8ecfdf5bb5",
   "metadata": {},
   "outputs": [
    {
     "data": {
      "text/html": [
       "<div>\n",
       "<style scoped>\n",
       "    .dataframe tbody tr th:only-of-type {\n",
       "        vertical-align: middle;\n",
       "    }\n",
       "\n",
       "    .dataframe tbody tr th {\n",
       "        vertical-align: top;\n",
       "    }\n",
       "\n",
       "    .dataframe thead th {\n",
       "        text-align: right;\n",
       "    }\n",
       "</style>\n",
       "<table border=\"1\" class=\"dataframe\">\n",
       "  <thead>\n",
       "    <tr style=\"text-align: right;\">\n",
       "      <th></th>\n",
       "      <th>id_artists</th>\n",
       "      <th>followers</th>\n",
       "      <th>genres</th>\n",
       "      <th>artist_name</th>\n",
       "      <th>artists_popularity</th>\n",
       "    </tr>\n",
       "  </thead>\n",
       "  <tbody>\n",
       "    <tr>\n",
       "      <th>0</th>\n",
       "      <td>0DheY5irMjBUeLybbCUEZ2</td>\n",
       "      <td>0.0</td>\n",
       "      <td>[]</td>\n",
       "      <td>Armid &amp; Amir Zare Pashai feat. Sara Rouzbehani</td>\n",
       "      <td>0</td>\n",
       "    </tr>\n",
       "    <tr>\n",
       "      <th>1</th>\n",
       "      <td>0DlhY15l3wsrnlfGio2bjU</td>\n",
       "      <td>5.0</td>\n",
       "      <td>[]</td>\n",
       "      <td>ปูนา ภาวิณี</td>\n",
       "      <td>0</td>\n",
       "    </tr>\n",
       "    <tr>\n",
       "      <th>2</th>\n",
       "      <td>0DmRESX2JknGPQyO15yxg7</td>\n",
       "      <td>0.0</td>\n",
       "      <td>[]</td>\n",
       "      <td>Sadaa</td>\n",
       "      <td>0</td>\n",
       "    </tr>\n",
       "    <tr>\n",
       "      <th>3</th>\n",
       "      <td>0DmhnbHjm1qw6NCYPeZNgJ</td>\n",
       "      <td>0.0</td>\n",
       "      <td>[]</td>\n",
       "      <td>Tra'gruda</td>\n",
       "      <td>0</td>\n",
       "    </tr>\n",
       "    <tr>\n",
       "      <th>4</th>\n",
       "      <td>0Dn11fWM7vHQ3rinvWEl4E</td>\n",
       "      <td>2.0</td>\n",
       "      <td>[]</td>\n",
       "      <td>Ioannis Panoutsopoulos</td>\n",
       "      <td>0</td>\n",
       "    </tr>\n",
       "    <tr>\n",
       "      <th>...</th>\n",
       "      <td>...</td>\n",
       "      <td>...</td>\n",
       "      <td>...</td>\n",
       "      <td>...</td>\n",
       "      <td>...</td>\n",
       "    </tr>\n",
       "    <tr>\n",
       "      <th>1162090</th>\n",
       "      <td>3cOzi726Iav1toV2LRVEjp</td>\n",
       "      <td>4831.0</td>\n",
       "      <td>['black comedy']</td>\n",
       "      <td>Ali Siddiq</td>\n",
       "      <td>34</td>\n",
       "    </tr>\n",
       "    <tr>\n",
       "      <th>1162091</th>\n",
       "      <td>6LogY6VMM3jgAE6fPzXeMl</td>\n",
       "      <td>46.0</td>\n",
       "      <td>[]</td>\n",
       "      <td>Rodney Laney</td>\n",
       "      <td>2</td>\n",
       "    </tr>\n",
       "    <tr>\n",
       "      <th>1162092</th>\n",
       "      <td>19boQkDEIay9GaVAWkUhTa</td>\n",
       "      <td>257.0</td>\n",
       "      <td>[]</td>\n",
       "      <td>Blake Wexler</td>\n",
       "      <td>10</td>\n",
       "    </tr>\n",
       "    <tr>\n",
       "      <th>1162093</th>\n",
       "      <td>5nvjpU3Y7L6Hpe54QuvDjy</td>\n",
       "      <td>2357.0</td>\n",
       "      <td>['black comedy']</td>\n",
       "      <td>Donnell Rawlings</td>\n",
       "      <td>15</td>\n",
       "    </tr>\n",
       "    <tr>\n",
       "      <th>1162094</th>\n",
       "      <td>2bP2cNhNBdKXHC6AnqgyVp</td>\n",
       "      <td>40.0</td>\n",
       "      <td>['new comedy']</td>\n",
       "      <td>Gabe Kea</td>\n",
       "      <td>8</td>\n",
       "    </tr>\n",
       "  </tbody>\n",
       "</table>\n",
       "<p>1162095 rows × 5 columns</p>\n",
       "</div>"
      ],
      "text/plain": [
       "                     id_artists  followers            genres  \\\n",
       "0        0DheY5irMjBUeLybbCUEZ2        0.0                []   \n",
       "1        0DlhY15l3wsrnlfGio2bjU        5.0                []   \n",
       "2        0DmRESX2JknGPQyO15yxg7        0.0                []   \n",
       "3        0DmhnbHjm1qw6NCYPeZNgJ        0.0                []   \n",
       "4        0Dn11fWM7vHQ3rinvWEl4E        2.0                []   \n",
       "...                         ...        ...               ...   \n",
       "1162090  3cOzi726Iav1toV2LRVEjp     4831.0  ['black comedy']   \n",
       "1162091  6LogY6VMM3jgAE6fPzXeMl       46.0                []   \n",
       "1162092  19boQkDEIay9GaVAWkUhTa      257.0                []   \n",
       "1162093  5nvjpU3Y7L6Hpe54QuvDjy     2357.0  ['black comedy']   \n",
       "1162094  2bP2cNhNBdKXHC6AnqgyVp       40.0    ['new comedy']   \n",
       "\n",
       "                                            artist_name  artists_popularity  \n",
       "0        Armid & Amir Zare Pashai feat. Sara Rouzbehani                   0  \n",
       "1                                           ปูนา ภาวิณี                   0  \n",
       "2                                                 Sadaa                   0  \n",
       "3                                             Tra'gruda                   0  \n",
       "4                                Ioannis Panoutsopoulos                   0  \n",
       "...                                                 ...                 ...  \n",
       "1162090                                      Ali Siddiq                  34  \n",
       "1162091                                    Rodney Laney                   2  \n",
       "1162092                                    Blake Wexler                  10  \n",
       "1162093                                Donnell Rawlings                  15  \n",
       "1162094                                        Gabe Kea                   8  \n",
       "\n",
       "[1162095 rows x 5 columns]"
      ]
     },
     "execution_count": 34,
     "metadata": {},
     "output_type": "execute_result"
    }
   ],
   "source": [
    "#prep for merging\n",
    "artists_df.rename(columns = {'id': 'id_artists','popularity': 'artists_popularity', 'name':'artist_name'}, inplace = True)\n",
    "artists_df"
   ]
  },
  {
   "cell_type": "code",
   "execution_count": 38,
   "id": "5751fc8d-b26c-4749-a6f9-dc6bb88dab88",
   "metadata": {},
   "outputs": [],
   "source": [
    "for df in (spotify_df, artists_df):\n",
    "    # Strip the column(s) you're planning to join with\n",
    "    df['id_artists'] = df['id_artists'].str.strip()"
   ]
  },
  {
   "cell_type": "code",
   "execution_count": 44,
   "id": "bc2745cc-49e9-4290-9d40-bb2e0554be84",
   "metadata": {},
   "outputs": [
    {
     "data": {
      "text/plain": [
       "id                  0\n",
       "name                3\n",
       "popularity          0\n",
       "duration_ms         0\n",
       "explicit            0\n",
       "artists             0\n",
       "id_artists          0\n",
       "release_date        0\n",
       "danceability        0\n",
       "energy              0\n",
       "key                 0\n",
       "loudness            0\n",
       "mode                0\n",
       "speechiness         0\n",
       "acousticness        0\n",
       "instrumentalness    0\n",
       "liveness            0\n",
       "valence             0\n",
       "tempo               0\n",
       "time_signature      0\n",
       "track_age_FLAG      0\n",
       "era_FLAG            0\n",
       "dtype: int64"
      ]
     },
     "execution_count": 44,
     "metadata": {},
     "output_type": "execute_result"
    }
   ],
   "source": [
    "spotify_df.isna().sum()"
   ]
  },
  {
   "cell_type": "code",
   "execution_count": 45,
   "id": "d5f557c2-1234-4ec9-8f10-5b0441443ab2",
   "metadata": {},
   "outputs": [
    {
     "data": {
      "text/plain": [
       "id_artists             0\n",
       "followers             11\n",
       "genres                 0\n",
       "artist_name            3\n",
       "artists_popularity     0\n",
       "dtype: int64"
      ]
     },
     "execution_count": 45,
     "metadata": {},
     "output_type": "execute_result"
    }
   ],
   "source": [
    "artists_df.isna().sum()"
   ]
  },
  {
   "cell_type": "code",
   "execution_count": 57,
   "id": "30b1ff53-a4f0-4657-b856-90f070cd778f",
   "metadata": {},
   "outputs": [
    {
     "data": {
      "text/html": [
       "<div>\n",
       "<style scoped>\n",
       "    .dataframe tbody tr th:only-of-type {\n",
       "        vertical-align: middle;\n",
       "    }\n",
       "\n",
       "    .dataframe tbody tr th {\n",
       "        vertical-align: top;\n",
       "    }\n",
       "\n",
       "    .dataframe thead th {\n",
       "        text-align: right;\n",
       "    }\n",
       "</style>\n",
       "<table border=\"1\" class=\"dataframe\">\n",
       "  <thead>\n",
       "    <tr style=\"text-align: right;\">\n",
       "      <th></th>\n",
       "      <th>id</th>\n",
       "      <th>name</th>\n",
       "      <th>popularity</th>\n",
       "      <th>duration_ms</th>\n",
       "      <th>explicit</th>\n",
       "      <th>artists</th>\n",
       "      <th>id_artists</th>\n",
       "      <th>release_date</th>\n",
       "      <th>danceability</th>\n",
       "      <th>energy</th>\n",
       "      <th>...</th>\n",
       "      <th>liveness</th>\n",
       "      <th>valence</th>\n",
       "      <th>tempo</th>\n",
       "      <th>time_signature</th>\n",
       "      <th>track_age_FLAG</th>\n",
       "      <th>era_FLAG</th>\n",
       "      <th>followers</th>\n",
       "      <th>genres</th>\n",
       "      <th>artist_name</th>\n",
       "      <th>artists_popularity</th>\n",
       "    </tr>\n",
       "  </thead>\n",
       "  <tbody>\n",
       "    <tr>\n",
       "      <th>0</th>\n",
       "      <td>6catF1lDhNTjjGa2GxRQNN</td>\n",
       "      <td>You'll Never Walk Alone - Mono; 2002 Remaster</td>\n",
       "      <td>56</td>\n",
       "      <td>160187</td>\n",
       "      <td>0</td>\n",
       "      <td>['Gerry &amp; The Pacemakers']</td>\n",
       "      <td>3UmBeGyNwr4iDWi1vTxWi8</td>\n",
       "      <td>2008</td>\n",
       "      <td>0.484</td>\n",
       "      <td>0.2650</td>\n",
       "      <td>...</td>\n",
       "      <td>0.1490</td>\n",
       "      <td>0.285</td>\n",
       "      <td>113.564</td>\n",
       "      <td>3</td>\n",
       "      <td>13</td>\n",
       "      <td>2000s</td>\n",
       "      <td>175360.0</td>\n",
       "      <td>['adult standards', 'brill building pop', 'bri...</td>\n",
       "      <td>Gerry &amp; The Pacemakers</td>\n",
       "      <td>55</td>\n",
       "    </tr>\n",
       "    <tr>\n",
       "      <th>1</th>\n",
       "      <td>4aSw1QJIMwYSoDEgzgdCJL</td>\n",
       "      <td>Ferry Cross the Mersey - Mono; 2002 Remaster</td>\n",
       "      <td>40</td>\n",
       "      <td>141987</td>\n",
       "      <td>0</td>\n",
       "      <td>['Gerry &amp; The Pacemakers']</td>\n",
       "      <td>3UmBeGyNwr4iDWi1vTxWi8</td>\n",
       "      <td>2008</td>\n",
       "      <td>0.405</td>\n",
       "      <td>0.3650</td>\n",
       "      <td>...</td>\n",
       "      <td>0.1630</td>\n",
       "      <td>0.588</td>\n",
       "      <td>104.536</td>\n",
       "      <td>4</td>\n",
       "      <td>13</td>\n",
       "      <td>2000s</td>\n",
       "      <td>175360.0</td>\n",
       "      <td>['adult standards', 'brill building pop', 'bri...</td>\n",
       "      <td>Gerry &amp; The Pacemakers</td>\n",
       "      <td>55</td>\n",
       "    </tr>\n",
       "    <tr>\n",
       "      <th>2</th>\n",
       "      <td>0ZMMtH875IR2TfkyC4PolD</td>\n",
       "      <td>Don't Let the Sun Catch You Crying (Main) - Mono</td>\n",
       "      <td>34</td>\n",
       "      <td>157093</td>\n",
       "      <td>0</td>\n",
       "      <td>['Gerry &amp; The Pacemakers']</td>\n",
       "      <td>3UmBeGyNwr4iDWi1vTxWi8</td>\n",
       "      <td>2008</td>\n",
       "      <td>0.477</td>\n",
       "      <td>0.3520</td>\n",
       "      <td>...</td>\n",
       "      <td>0.1220</td>\n",
       "      <td>0.478</td>\n",
       "      <td>106.773</td>\n",
       "      <td>4</td>\n",
       "      <td>13</td>\n",
       "      <td>2000s</td>\n",
       "      <td>175360.0</td>\n",
       "      <td>['adult standards', 'brill building pop', 'bri...</td>\n",
       "      <td>Gerry &amp; The Pacemakers</td>\n",
       "      <td>55</td>\n",
       "    </tr>\n",
       "    <tr>\n",
       "      <th>3</th>\n",
       "      <td>7LfvdUcwrrMKVh8WPGXnbA</td>\n",
       "      <td>How Do You Do It? - Mono</td>\n",
       "      <td>29</td>\n",
       "      <td>114987</td>\n",
       "      <td>0</td>\n",
       "      <td>['Gerry &amp; The Pacemakers']</td>\n",
       "      <td>3UmBeGyNwr4iDWi1vTxWi8</td>\n",
       "      <td>2008</td>\n",
       "      <td>0.617</td>\n",
       "      <td>0.7110</td>\n",
       "      <td>...</td>\n",
       "      <td>0.0841</td>\n",
       "      <td>0.963</td>\n",
       "      <td>142.266</td>\n",
       "      <td>4</td>\n",
       "      <td>13</td>\n",
       "      <td>2000s</td>\n",
       "      <td>175360.0</td>\n",
       "      <td>['adult standards', 'brill building pop', 'bri...</td>\n",
       "      <td>Gerry &amp; The Pacemakers</td>\n",
       "      <td>55</td>\n",
       "    </tr>\n",
       "    <tr>\n",
       "      <th>4</th>\n",
       "      <td>25qyOLQyX7bsceW3UL55BW</td>\n",
       "      <td>Hello Little Girl</td>\n",
       "      <td>25</td>\n",
       "      <td>115240</td>\n",
       "      <td>0</td>\n",
       "      <td>['Gerry &amp; The Pacemakers']</td>\n",
       "      <td>3UmBeGyNwr4iDWi1vTxWi8</td>\n",
       "      <td>2008</td>\n",
       "      <td>0.409</td>\n",
       "      <td>0.6390</td>\n",
       "      <td>...</td>\n",
       "      <td>0.3430</td>\n",
       "      <td>0.928</td>\n",
       "      <td>145.903</td>\n",
       "      <td>4</td>\n",
       "      <td>13</td>\n",
       "      <td>2000s</td>\n",
       "      <td>175360.0</td>\n",
       "      <td>['adult standards', 'brill building pop', 'bri...</td>\n",
       "      <td>Gerry &amp; The Pacemakers</td>\n",
       "      <td>55</td>\n",
       "    </tr>\n",
       "    <tr>\n",
       "      <th>...</th>\n",
       "      <td>...</td>\n",
       "      <td>...</td>\n",
       "      <td>...</td>\n",
       "      <td>...</td>\n",
       "      <td>...</td>\n",
       "      <td>...</td>\n",
       "      <td>...</td>\n",
       "      <td>...</td>\n",
       "      <td>...</td>\n",
       "      <td>...</td>\n",
       "      <td>...</td>\n",
       "      <td>...</td>\n",
       "      <td>...</td>\n",
       "      <td>...</td>\n",
       "      <td>...</td>\n",
       "      <td>...</td>\n",
       "      <td>...</td>\n",
       "      <td>...</td>\n",
       "      <td>...</td>\n",
       "      <td>...</td>\n",
       "      <td>...</td>\n",
       "    </tr>\n",
       "    <tr>\n",
       "      <th>305983</th>\n",
       "      <td>0MmaEacabpK8Yp3Mdeo5uY</td>\n",
       "      <td>下雨天</td>\n",
       "      <td>50</td>\n",
       "      <td>265846</td>\n",
       "      <td>0</td>\n",
       "      <td>['芝麻']</td>\n",
       "      <td>5VGgFE9nPgMfEnYiPT5J2B</td>\n",
       "      <td>2020</td>\n",
       "      <td>0.528</td>\n",
       "      <td>0.6730</td>\n",
       "      <td>...</td>\n",
       "      <td>0.0989</td>\n",
       "      <td>0.297</td>\n",
       "      <td>130.066</td>\n",
       "      <td>4</td>\n",
       "      <td>1</td>\n",
       "      <td>2010s</td>\n",
       "      <td>929.0</td>\n",
       "      <td>['chinese viral pop']</td>\n",
       "      <td>芝麻</td>\n",
       "      <td>36</td>\n",
       "    </tr>\n",
       "    <tr>\n",
       "      <th>305984</th>\n",
       "      <td>1dKxf4Ht2SsKLyXfSDJAgy</td>\n",
       "      <td>The Cutest Puppy</td>\n",
       "      <td>67</td>\n",
       "      <td>82500</td>\n",
       "      <td>0</td>\n",
       "      <td>['Laureen Conrad']</td>\n",
       "      <td>7vgGpuiXdNlCmc994PlMlz</td>\n",
       "      <td>2020</td>\n",
       "      <td>0.609</td>\n",
       "      <td>0.0172</td>\n",
       "      <td>...</td>\n",
       "      <td>0.1080</td>\n",
       "      <td>0.890</td>\n",
       "      <td>68.619</td>\n",
       "      <td>4</td>\n",
       "      <td>1</td>\n",
       "      <td>2010s</td>\n",
       "      <td>23.0</td>\n",
       "      <td>['instrumental lullaby']</td>\n",
       "      <td>Laureen Conrad</td>\n",
       "      <td>52</td>\n",
       "    </tr>\n",
       "    <tr>\n",
       "      <th>305985</th>\n",
       "      <td>0SjsIzJkZfDU7wlcdklEFR</td>\n",
       "      <td>John Brown's Song</td>\n",
       "      <td>66</td>\n",
       "      <td>185250</td>\n",
       "      <td>0</td>\n",
       "      <td>['Gregory Oberle']</td>\n",
       "      <td>4MxqhahGRT4BPz1PilXGeu</td>\n",
       "      <td>2020</td>\n",
       "      <td>0.562</td>\n",
       "      <td>0.0331</td>\n",
       "      <td>...</td>\n",
       "      <td>0.1110</td>\n",
       "      <td>0.386</td>\n",
       "      <td>63.696</td>\n",
       "      <td>3</td>\n",
       "      <td>1</td>\n",
       "      <td>2010s</td>\n",
       "      <td>91.0</td>\n",
       "      <td>['instrumental lullaby']</td>\n",
       "      <td>Gregory Oberle</td>\n",
       "      <td>55</td>\n",
       "    </tr>\n",
       "    <tr>\n",
       "      <th>305986</th>\n",
       "      <td>5rgu12WBIHQtvej2MdHSH0</td>\n",
       "      <td>云与海</td>\n",
       "      <td>50</td>\n",
       "      <td>258267</td>\n",
       "      <td>0</td>\n",
       "      <td>['阿YueYue']</td>\n",
       "      <td>1QLBXKM5GCpyQQSVMNZqrZ</td>\n",
       "      <td>2020</td>\n",
       "      <td>0.560</td>\n",
       "      <td>0.5180</td>\n",
       "      <td>...</td>\n",
       "      <td>0.0648</td>\n",
       "      <td>0.211</td>\n",
       "      <td>131.896</td>\n",
       "      <td>4</td>\n",
       "      <td>1</td>\n",
       "      <td>2010s</td>\n",
       "      <td>896.0</td>\n",
       "      <td>['chinese viral pop']</td>\n",
       "      <td>阿YueYue</td>\n",
       "      <td>38</td>\n",
       "    </tr>\n",
       "    <tr>\n",
       "      <th>305987</th>\n",
       "      <td>0NuWgxEp51CutD2pJoF4OM</td>\n",
       "      <td>blind</td>\n",
       "      <td>72</td>\n",
       "      <td>153293</td>\n",
       "      <td>0</td>\n",
       "      <td>['ROLE MODEL']</td>\n",
       "      <td>1dy5WNgIKQU6ezkpZs4y8z</td>\n",
       "      <td>2020</td>\n",
       "      <td>0.765</td>\n",
       "      <td>0.6630</td>\n",
       "      <td>...</td>\n",
       "      <td>0.0924</td>\n",
       "      <td>0.686</td>\n",
       "      <td>150.091</td>\n",
       "      <td>4</td>\n",
       "      <td>1</td>\n",
       "      <td>2010s</td>\n",
       "      <td>245944.0</td>\n",
       "      <td>['alt z', 'alternative r&amp;b', 'bedroom pop', 'i...</td>\n",
       "      <td>ROLE MODEL</td>\n",
       "      <td>67</td>\n",
       "    </tr>\n",
       "  </tbody>\n",
       "</table>\n",
       "<p>305988 rows × 26 columns</p>\n",
       "</div>"
      ],
      "text/plain": [
       "                            id  \\\n",
       "0       6catF1lDhNTjjGa2GxRQNN   \n",
       "1       4aSw1QJIMwYSoDEgzgdCJL   \n",
       "2       0ZMMtH875IR2TfkyC4PolD   \n",
       "3       7LfvdUcwrrMKVh8WPGXnbA   \n",
       "4       25qyOLQyX7bsceW3UL55BW   \n",
       "...                        ...   \n",
       "305983  0MmaEacabpK8Yp3Mdeo5uY   \n",
       "305984  1dKxf4Ht2SsKLyXfSDJAgy   \n",
       "305985  0SjsIzJkZfDU7wlcdklEFR   \n",
       "305986  5rgu12WBIHQtvej2MdHSH0   \n",
       "305987  0NuWgxEp51CutD2pJoF4OM   \n",
       "\n",
       "                                                    name  popularity  \\\n",
       "0          You'll Never Walk Alone - Mono; 2002 Remaster          56   \n",
       "1           Ferry Cross the Mersey - Mono; 2002 Remaster          40   \n",
       "2       Don't Let the Sun Catch You Crying (Main) - Mono          34   \n",
       "3                               How Do You Do It? - Mono          29   \n",
       "4                                      Hello Little Girl          25   \n",
       "...                                                  ...         ...   \n",
       "305983                                               下雨天          50   \n",
       "305984                                  The Cutest Puppy          67   \n",
       "305985                                 John Brown's Song          66   \n",
       "305986                                               云与海          50   \n",
       "305987                                             blind          72   \n",
       "\n",
       "        duration_ms  explicit                     artists  \\\n",
       "0            160187         0  ['Gerry & The Pacemakers']   \n",
       "1            141987         0  ['Gerry & The Pacemakers']   \n",
       "2            157093         0  ['Gerry & The Pacemakers']   \n",
       "3            114987         0  ['Gerry & The Pacemakers']   \n",
       "4            115240         0  ['Gerry & The Pacemakers']   \n",
       "...             ...       ...                         ...   \n",
       "305983       265846         0                      ['芝麻']   \n",
       "305984        82500         0          ['Laureen Conrad']   \n",
       "305985       185250         0          ['Gregory Oberle']   \n",
       "305986       258267         0                 ['阿YueYue']   \n",
       "305987       153293         0              ['ROLE MODEL']   \n",
       "\n",
       "                    id_artists  release_date  danceability  energy  ...  \\\n",
       "0       3UmBeGyNwr4iDWi1vTxWi8          2008         0.484  0.2650  ...   \n",
       "1       3UmBeGyNwr4iDWi1vTxWi8          2008         0.405  0.3650  ...   \n",
       "2       3UmBeGyNwr4iDWi1vTxWi8          2008         0.477  0.3520  ...   \n",
       "3       3UmBeGyNwr4iDWi1vTxWi8          2008         0.617  0.7110  ...   \n",
       "4       3UmBeGyNwr4iDWi1vTxWi8          2008         0.409  0.6390  ...   \n",
       "...                        ...           ...           ...     ...  ...   \n",
       "305983  5VGgFE9nPgMfEnYiPT5J2B          2020         0.528  0.6730  ...   \n",
       "305984  7vgGpuiXdNlCmc994PlMlz          2020         0.609  0.0172  ...   \n",
       "305985  4MxqhahGRT4BPz1PilXGeu          2020         0.562  0.0331  ...   \n",
       "305986  1QLBXKM5GCpyQQSVMNZqrZ          2020         0.560  0.5180  ...   \n",
       "305987  1dy5WNgIKQU6ezkpZs4y8z          2020         0.765  0.6630  ...   \n",
       "\n",
       "        liveness  valence    tempo  time_signature  track_age_FLAG  era_FLAG  \\\n",
       "0         0.1490    0.285  113.564               3              13     2000s   \n",
       "1         0.1630    0.588  104.536               4              13     2000s   \n",
       "2         0.1220    0.478  106.773               4              13     2000s   \n",
       "3         0.0841    0.963  142.266               4              13     2000s   \n",
       "4         0.3430    0.928  145.903               4              13     2000s   \n",
       "...          ...      ...      ...             ...             ...       ...   \n",
       "305983    0.0989    0.297  130.066               4               1     2010s   \n",
       "305984    0.1080    0.890   68.619               4               1     2010s   \n",
       "305985    0.1110    0.386   63.696               3               1     2010s   \n",
       "305986    0.0648    0.211  131.896               4               1     2010s   \n",
       "305987    0.0924    0.686  150.091               4               1     2010s   \n",
       "\n",
       "        followers                                             genres  \\\n",
       "0        175360.0  ['adult standards', 'brill building pop', 'bri...   \n",
       "1        175360.0  ['adult standards', 'brill building pop', 'bri...   \n",
       "2        175360.0  ['adult standards', 'brill building pop', 'bri...   \n",
       "3        175360.0  ['adult standards', 'brill building pop', 'bri...   \n",
       "4        175360.0  ['adult standards', 'brill building pop', 'bri...   \n",
       "...           ...                                                ...   \n",
       "305983      929.0                              ['chinese viral pop']   \n",
       "305984       23.0                           ['instrumental lullaby']   \n",
       "305985       91.0                           ['instrumental lullaby']   \n",
       "305986      896.0                              ['chinese viral pop']   \n",
       "305987   245944.0  ['alt z', 'alternative r&b', 'bedroom pop', 'i...   \n",
       "\n",
       "                   artist_name  artists_popularity  \n",
       "0       Gerry & The Pacemakers                  55  \n",
       "1       Gerry & The Pacemakers                  55  \n",
       "2       Gerry & The Pacemakers                  55  \n",
       "3       Gerry & The Pacemakers                  55  \n",
       "4       Gerry & The Pacemakers                  55  \n",
       "...                        ...                 ...  \n",
       "305983                      芝麻                  36  \n",
       "305984          Laureen Conrad                  52  \n",
       "305985          Gregory Oberle                  55  \n",
       "305986                 阿YueYue                  38  \n",
       "305987              ROLE MODEL                  67  \n",
       "\n",
       "[305988 rows x 26 columns]"
      ]
     },
     "execution_count": 57,
     "metadata": {},
     "output_type": "execute_result"
    }
   ],
   "source": [
    "df_merged = spotify_df.merge(artists_df, on = 'id_artists', how='inner')\n",
    "df_merged"
   ]
  },
  {
   "cell_type": "markdown",
   "id": "8d2a7cc9-1096-467c-ae02-622921eb4f18",
   "metadata": {},
   "source": [
    "### inner join dataset - 305988\n",
    "### left join - 376024\n",
    "### I will use inner join as imputing a genre will throw off my clustering"
   ]
  },
  {
   "cell_type": "code",
   "execution_count": 61,
   "id": "c73fb5d0-3581-49d1-9248-39808e0fc0c3",
   "metadata": {},
   "outputs": [
    {
     "data": {
      "text/plain": [
       "(305988, 26)"
      ]
     },
     "execution_count": 61,
     "metadata": {},
     "output_type": "execute_result"
    }
   ],
   "source": [
    "df_merged.shape\n",
    "(305988, 26)"
   ]
  },
  {
   "cell_type": "code",
   "execution_count": 60,
   "id": "f53f9075-fea4-4e5e-8ded-9f7b4b0f6d2b",
   "metadata": {},
   "outputs": [
    {
     "data": {
      "text/plain": [
       "id                    0\n",
       "name                  0\n",
       "popularity            0\n",
       "duration_ms           0\n",
       "explicit              0\n",
       "artists               0\n",
       "id_artists            0\n",
       "release_date          0\n",
       "danceability          0\n",
       "energy                0\n",
       "key                   0\n",
       "loudness              0\n",
       "mode                  0\n",
       "speechiness           0\n",
       "acousticness          0\n",
       "instrumentalness      0\n",
       "liveness              0\n",
       "valence               0\n",
       "tempo                 0\n",
       "time_signature        0\n",
       "track_age_FLAG        0\n",
       "era_FLAG              0\n",
       "followers             0\n",
       "genres                0\n",
       "artist_name           0\n",
       "artists_popularity    0\n",
       "dtype: int64"
      ]
     },
     "execution_count": 60,
     "metadata": {},
     "output_type": "execute_result"
    }
   ],
   "source": [
    "df_merged.isna().sum()\n",
    "# no nulls"
   ]
  },
  {
   "cell_type": "code",
   "execution_count": 62,
   "id": "88c53792-a8a7-4ecb-8bee-9d157dd99452",
   "metadata": {},
   "outputs": [],
   "source": [
    "# repeated songs differ in id, but I will make the assumption that songs with same name and duration are repeats and remove them.\n",
    "df_merged = df_merged.drop_duplicates(subset=['name', 'duration_ms'])"
   ]
  },
  {
   "cell_type": "code",
   "execution_count": 65,
   "id": "aac4e969-03e1-4d6d-b54d-399a947386c0",
   "metadata": {},
   "outputs": [
    {
     "data": {
      "text/plain": [
       "(293127, 26)"
      ]
     },
     "execution_count": 65,
     "metadata": {},
     "output_type": "execute_result"
    }
   ],
   "source": [
    "df_merged.shape"
   ]
  },
  {
   "cell_type": "code",
   "execution_count": 66,
   "id": "b1d2e96e-921a-4f45-95be-e6b0a141412a",
   "metadata": {},
   "outputs": [
    {
     "data": {
      "text/plain": [
       "293545"
      ]
     },
     "execution_count": 66,
     "metadata": {},
     "output_type": "execute_result"
    }
   ],
   "source": [
    "586672-293127"
   ]
  },
  {
   "cell_type": "code",
   "execution_count": 67,
   "id": "0b6ab55d-93dc-4fe2-b13b-8a547731446b",
   "metadata": {},
   "outputs": [
    {
     "data": {
      "text/plain": [
       "0.5003562467613931"
      ]
     },
     "execution_count": 67,
     "metadata": {},
     "output_type": "execute_result"
    }
   ],
   "source": [
    "293545/586672"
   ]
  },
  {
   "cell_type": "markdown",
   "id": "4bfa87f2-fcda-481e-b854-d198b6dc026f",
   "metadata": {},
   "source": [
    "We removed 50% of songs:\n",
    "- era of song not relevant -> 387539\n",
    "- spoken word, and not actual songs -> 376024\n",
    "- no genre information thus the inner merge removed them -> 305988\n",
    "- potential duplicates -> 293127"
   ]
  },
  {
   "cell_type": "markdown",
   "id": "c3af51cb-5568-4817-bcd9-95ef782cd9b5",
   "metadata": {},
   "source": [
    "## One-hot encoding categorical features"
   ]
  },
  {
   "cell_type": "markdown",
   "id": "bf37fc70-0f29-4967-819e-251f1179d946",
   "metadata": {},
   "source": [
    "Plan to One-hot encoding (OHE):\n",
    "- explicit (already binarized)\n",
    "- mode (already binarized)\n",
    "- key\n",
    "- time signature\n",
    "- era flag\n",
    "- genres\n",
    "- artists/artist_name"
   ]
  },
  {
   "cell_type": "code",
   "execution_count": 70,
   "id": "da12d226-ee13-4982-87d7-0d75679790b9",
   "metadata": {},
   "outputs": [
    {
     "name": "stdout",
     "output_type": "stream",
     "text": [
      "<class 'pandas.core.frame.DataFrame'>\n",
      "Index: 293127 entries, 0 to 305987\n",
      "Data columns (total 26 columns):\n",
      " #   Column              Non-Null Count   Dtype   \n",
      "---  ------              --------------   -----   \n",
      " 0   id                  293127 non-null  object  \n",
      " 1   name                293127 non-null  object  \n",
      " 2   popularity          293127 non-null  int64   \n",
      " 3   duration_ms         293127 non-null  int64   \n",
      " 4   explicit            293127 non-null  int64   \n",
      " 5   artists             293127 non-null  object  \n",
      " 6   id_artists          293127 non-null  object  \n",
      " 7   release_date        293127 non-null  int32   \n",
      " 8   danceability        293127 non-null  float64 \n",
      " 9   energy              293127 non-null  float64 \n",
      " 10  key                 293127 non-null  int64   \n",
      " 11  loudness            293127 non-null  float64 \n",
      " 12  mode                293127 non-null  int64   \n",
      " 13  speechiness         293127 non-null  float64 \n",
      " 14  acousticness        293127 non-null  float64 \n",
      " 15  instrumentalness    293127 non-null  float64 \n",
      " 16  liveness            293127 non-null  float64 \n",
      " 17  valence             293127 non-null  float64 \n",
      " 18  tempo               293127 non-null  float64 \n",
      " 19  time_signature      293127 non-null  int64   \n",
      " 20  track_age_FLAG      293127 non-null  int32   \n",
      " 21  era_FLAG            293127 non-null  category\n",
      " 22  followers           293127 non-null  float64 \n",
      " 23  genres              293127 non-null  object  \n",
      " 24  artist_name         293127 non-null  object  \n",
      " 25  artists_popularity  293127 non-null  int64   \n",
      "dtypes: category(1), float64(10), int32(2), int64(7), object(6)\n",
      "memory usage: 56.2+ MB\n"
     ]
    }
   ],
   "source": [
    "df_merged.info()"
   ]
  },
  {
   "cell_type": "code",
   "execution_count": 69,
   "id": "f754a423-9091-4082-aa2c-60fd235450d2",
   "metadata": {},
   "outputs": [],
   "source": [
    "# source https://www.kaggle.com/code/bedirhanhasanebi/spotify-recommender-system\n",
    "def one_hot_encoder(dataframe, categorical_cols, drop_first=False):\n",
    "    dataframe = pd.get_dummies(dataframe, columns=categorical_cols, drop_first=drop_first)\n",
    "    return dataframe"
   ]
  },
  {
   "cell_type": "code",
   "execution_count": 72,
   "id": "61676e68-3335-40ca-ae65-3a859fc8b9ef",
   "metadata": {},
   "outputs": [],
   "source": [
    "ohe_cols = [\"key\",\"time_signature\",'era_FLAG']\n",
    "spotify_ohe=one_hot_encoder(df_merged, ohe_cols,drop_first=True)"
   ]
  },
  {
   "cell_type": "markdown",
   "id": "c4aaf13f-9ff0-4562-b56f-e0838056816b",
   "metadata": {},
   "source": [
    "I ran this code and manually checked the difference. Method 2 got more songs but incluided everything with reaggeton in it. incluiding religious reggaeton, and reggaeton pop...which I rather not have incluided in my reggaeton label.\n",
    "```python\n",
    "# label reggaeton\n",
    "# testing methods\n",
    "# Method 1: Using 'apply' and 'eval'\n",
    "df_method1 = spotify_ohe[spotify_ohe['genres'].apply(lambda x: 'reggaeton' in eval(x))]\n",
    "\n",
    "# Method 2: Using 'str.contains'\n",
    "df_method2 = spotify_ohe[spotify_ohe['genres'].str.contains(r'reggaeton', case=False, regex=True)]\n",
    "\n",
    "# Combine the two DataFrames using 'merge'\n",
    "combined_df = pd.merge(df_method1, df_method2, how='outer', indicator=True)\n",
    "\n",
    "# Filter rows present in only one dataset\n",
    "unique_rows = combined_df[combined_df['_merge'].isin(['left_only', 'right_only'])]\n",
    "\n",
    "# save the result\n",
    "unique_rows.to_csv(\"../../../../Desktop/unique_songs.csv\", index=False)\n",
    "\n",
    "#using regex is a sloppy method to get more reggaeton songs: gets everything, even reggaeton pop which I want to get away\n",
    "```"
   ]
  },
  {
   "cell_type": "code",
   "execution_count": 73,
   "id": "56d56688-bbbe-49e3-9f2e-ae256f9245f2",
   "metadata": {},
   "outputs": [],
   "source": [
    "#less songs but more specific\n",
    "spotify_ohe['genres_reggaeton']= spotify_ohe['genres'].apply(lambda x: 'reggaeton' in eval(x))"
   ]
  },
  {
   "cell_type": "code",
   "execution_count": 83,
   "id": "e82599f6-6554-4f59-ab70-68560a33b00c",
   "metadata": {},
   "outputs": [
    {
     "data": {
      "text/plain": [
       "1409"
      ]
     },
     "execution_count": 83,
     "metadata": {},
     "output_type": "execute_result"
    }
   ],
   "source": [
    "spotify_ohe['genres_reggaeton'].sum()\n",
    "#1409 songs"
   ]
  },
  {
   "cell_type": "code",
   "execution_count": 74,
   "id": "ab062038-ab5a-4f1d-aa28-b993477db32b",
   "metadata": {},
   "outputs": [
    {
     "name": "stdout",
     "output_type": "stream",
     "text": [
      "<class 'pandas.core.frame.DataFrame'>\n",
      "Index: 293127 entries, 0 to 305987\n",
      "Data columns (total 42 columns):\n",
      " #   Column              Non-Null Count   Dtype  \n",
      "---  ------              --------------   -----  \n",
      " 0   id                  293127 non-null  object \n",
      " 1   name                293127 non-null  object \n",
      " 2   popularity          293127 non-null  int64  \n",
      " 3   duration_ms         293127 non-null  int64  \n",
      " 4   explicit            293127 non-null  int64  \n",
      " 5   artists             293127 non-null  object \n",
      " 6   id_artists          293127 non-null  object \n",
      " 7   release_date        293127 non-null  int32  \n",
      " 8   danceability        293127 non-null  float64\n",
      " 9   energy              293127 non-null  float64\n",
      " 10  loudness            293127 non-null  float64\n",
      " 11  mode                293127 non-null  int64  \n",
      " 12  speechiness         293127 non-null  float64\n",
      " 13  acousticness        293127 non-null  float64\n",
      " 14  instrumentalness    293127 non-null  float64\n",
      " 15  liveness            293127 non-null  float64\n",
      " 16  valence             293127 non-null  float64\n",
      " 17  tempo               293127 non-null  float64\n",
      " 18  track_age_FLAG      293127 non-null  int32  \n",
      " 19  followers           293127 non-null  float64\n",
      " 20  genres              293127 non-null  object \n",
      " 21  artist_name         293127 non-null  object \n",
      " 22  artists_popularity  293127 non-null  int64  \n",
      " 23  key_1               293127 non-null  bool   \n",
      " 24  key_2               293127 non-null  bool   \n",
      " 25  key_3               293127 non-null  bool   \n",
      " 26  key_4               293127 non-null  bool   \n",
      " 27  key_5               293127 non-null  bool   \n",
      " 28  key_6               293127 non-null  bool   \n",
      " 29  key_7               293127 non-null  bool   \n",
      " 30  key_8               293127 non-null  bool   \n",
      " 31  key_9               293127 non-null  bool   \n",
      " 32  key_10              293127 non-null  bool   \n",
      " 33  key_11              293127 non-null  bool   \n",
      " 34  time_signature_1    293127 non-null  bool   \n",
      " 35  time_signature_3    293127 non-null  bool   \n",
      " 36  time_signature_4    293127 non-null  bool   \n",
      " 37  time_signature_5    293127 non-null  bool   \n",
      " 38  era_FLAG_1990s      293127 non-null  bool   \n",
      " 39  era_FLAG_2000s      293127 non-null  bool   \n",
      " 40  era_FLAG_2010s      293127 non-null  bool   \n",
      " 41  genres_reggaeton    293127 non-null  bool   \n",
      "dtypes: bool(19), float64(10), int32(2), int64(5), object(6)\n",
      "memory usage: 56.7+ MB\n"
     ]
    }
   ],
   "source": [
    "spotify_ohe.info()"
   ]
  },
  {
   "cell_type": "code",
   "execution_count": 75,
   "id": "4c055af9-dffc-4407-a8fd-efe8e1a18256",
   "metadata": {},
   "outputs": [
    {
     "name": "stdout",
     "output_type": "stream",
     "text": [
      "<class 'pandas.core.frame.DataFrame'>\n",
      "Index: 293127 entries, 0 to 305987\n",
      "Data columns (total 31 columns):\n",
      " #   Column            Non-Null Count   Dtype  \n",
      "---  ------            --------------   -----  \n",
      " 0   duration_ms       293127 non-null  int64  \n",
      " 1   explicit          293127 non-null  int64  \n",
      " 2   danceability      293127 non-null  float64\n",
      " 3   energy            293127 non-null  float64\n",
      " 4   loudness          293127 non-null  float64\n",
      " 5   mode              293127 non-null  int64  \n",
      " 6   speechiness       293127 non-null  float64\n",
      " 7   acousticness      293127 non-null  float64\n",
      " 8   instrumentalness  293127 non-null  float64\n",
      " 9   liveness          293127 non-null  float64\n",
      " 10  valence           293127 non-null  float64\n",
      " 11  tempo             293127 non-null  float64\n",
      " 12  key_1             293127 non-null  bool   \n",
      " 13  key_2             293127 non-null  bool   \n",
      " 14  key_3             293127 non-null  bool   \n",
      " 15  key_4             293127 non-null  bool   \n",
      " 16  key_5             293127 non-null  bool   \n",
      " 17  key_6             293127 non-null  bool   \n",
      " 18  key_7             293127 non-null  bool   \n",
      " 19  key_8             293127 non-null  bool   \n",
      " 20  key_9             293127 non-null  bool   \n",
      " 21  key_10            293127 non-null  bool   \n",
      " 22  key_11            293127 non-null  bool   \n",
      " 23  time_signature_1  293127 non-null  bool   \n",
      " 24  time_signature_3  293127 non-null  bool   \n",
      " 25  time_signature_4  293127 non-null  bool   \n",
      " 26  time_signature_5  293127 non-null  bool   \n",
      " 27  era_FLAG_1990s    293127 non-null  bool   \n",
      " 28  era_FLAG_2000s    293127 non-null  bool   \n",
      " 29  era_FLAG_2010s    293127 non-null  bool   \n",
      " 30  genres_reggaeton  293127 non-null  bool   \n",
      "dtypes: bool(19), float64(9), int64(3)\n",
      "memory usage: 34.4 MB\n"
     ]
    }
   ],
   "source": [
    "# get numerical, musical feature variables only\n",
    "spotify_ohe_nums = spotify_ohe.drop(['genres', 'artist_name', 'id_artists', 'artists', 'name', 'id', 'release_date', 'followers', 'track_age_FLAG', 'popularity', 'artists_popularity'], axis=1)\n",
    "spotify_ohe_nums.info()"
   ]
  },
  {
   "cell_type": "code",
   "execution_count": 76,
   "id": "535439bc-3e9e-490e-abb5-798d36cfe44a",
   "metadata": {},
   "outputs": [
    {
     "data": {
      "image/png": "[encoded data removed]",
      "text/plain": [
       "<Figure size 1600x1200 with 2 Axes>"
      ]
     },
     "metadata": {},
     "output_type": "display_data"
    }
   ],
   "source": [
    "correlation_matrix = spotify_ohe_nums.corr()\n",
    "\n",
    "# Visualize the correlation matrix using a heatmap\n",
    "plt.figure(figsize=(16, 12))\n",
    "sns.heatmap(correlation_matrix, cmap='coolwarm', linewidths=0.5)\n",
    "plt.title('Correlation Matrix Heatmap')\n",
    "plt.show()"
   ]
  },
  {
   "cell_type": "markdown",
   "id": "658598af-4be4-4507-9551-c777aa56649a",
   "metadata": {},
   "source": [
    "OHE recap:\n",
    "- explicit (already binarized)\n",
    "- mode (already binarized)\n",
    "- done-key \n",
    "- done-time signature\n",
    "- done-era flag\n",
    "- super hard and messy to bin-genres\n",
    "- not advised to OHE this many features-artists/artist_name"
   ]
  },
  {
   "cell_type": "markdown",
   "id": "02be2096-4938-4814-ae4b-005a805be71d",
   "metadata": {},
   "source": [
    "Revelant Correlation recap:\n",
    "\"corr +\" = positive correlation\n",
    "\"corr -\" = negative correlation\n",
    "- tried with scaled data and nothing changed; probably .corr() scales it.\n",
    "- explicit corr + with speechiness, energy, danceability, and loudness\n",
    "- loudness corr + with energy \n",
    "- danceability corr + speechiness, energy, loudness, explicit, time_signature_4, and era 2010s"
   ]
  },
  {
   "cell_type": "markdown",
   "id": "f043a0d4-3bbe-4d61-9d8f-61ae080c4c98",
   "metadata": {},
   "source": [
    "### Save files"
   ]
  },
  {
   "cell_type": "code",
   "execution_count": 78,
   "id": "84dc9f8a-4b0e-45da-9ba5-a8f595c661e5",
   "metadata": {},
   "outputs": [],
   "source": [
    "df_merged.to_csv(\"../spotify-datasets/kaggle-yamaerenay-dataset/tracks_JoseCleaned.csv\", index=False)"
   ]
  },
  {
   "cell_type": "code",
   "execution_count": 79,
   "id": "1eae20a9-9441-415b-9699-45e4ee19b4eb",
   "metadata": {},
   "outputs": [],
   "source": [
    "spotify_ohe.to_csv(\"../spotify-datasets/kaggle-yamaerenay-dataset/tracks_JoseCleaned_OHE.csv\", index=False)"
   ]
  },
  {
   "cell_type": "code",
   "execution_count": 80,
   "id": "878112e5-209f-4116-b83a-7746915c658b",
   "metadata": {},
   "outputs": [],
   "source": [
    "spotify_ohe_nums.to_csv(\"../spotify-datasets/kaggle-yamaerenay-dataset/tracks_JoseCleaned_OHE_musical_features_only.csv\", index=False)"
   ]
  }
 ],
 "metadata": {
  "kernelspec": {
   "display_name": "Python 3 (ipykernel)",
   "language": "python",
   "name": "python3"
  },
  "language_info": {
   "codemirror_mode": {
    "name": "ipython",
    "version": 3
   },
   "file_extension": ".py",
   "mimetype": "text/x-python",
   "name": "python",
   "nbconvert_exporter": "python",
   "pygments_lexer": "ipython3",
   "version": "3.11.7"
  }
 },
 "nbformat": 4,
 "nbformat_minor": 5
}
